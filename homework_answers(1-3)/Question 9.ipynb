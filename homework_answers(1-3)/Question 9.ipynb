{
 "cells": [
  {
   "cell_type": "code",
   "execution_count": 10,
   "metadata": {},
   "outputs": [],
   "source": [
    "import matplotlib.pyplot as plt\n",
    "from scipy.stats import multivariate_normal"
   ]
  },
  {
   "cell_type": "code",
   "execution_count": 11,
   "metadata": {},
   "outputs": [],
   "source": [
    "#ChatGPT 3.5 Generated script\n",
    "import numpy as np\n",
    "from scipy.linalg import det, inv\n",
    "import math\n",
    "\n",
    "def multivariate_normal_density(x, mu, Sigma):\n",
    "    \"\"\"\n",
    "    Calculate the density of a multivariate normal distribution.\n",
    "\n",
    "    Parameters:\n",
    "    x : array_like\n",
    "        The point(s) at which to evaluate the density. This should be a 1D or 2D array.\n",
    "    mu : array_like\n",
    "        The mean vector of the multivariate normal distribution.\n",
    "    Sigma : array_like\n",
    "        The covariance matrix of the multivariate normal distribution.\n",
    "\n",
    "    Returns:\n",
    "    density : float or array_like\n",
    "        The density of the multivariate normal distribution evaluated at point(s) x.\n",
    "    \"\"\"\n",
    "    x = np.atleast_2d(x)\n",
    "    d = len(mu)\n",
    "    delta = x - mu\n",
    "    invSigma = inv(Sigma)\n",
    "    normalization = 1.0 / ((2 * np.pi) ** (d / 2.0) * det(Sigma) ** 0.5)\n",
    "    exponent = -0.5 * np.sum(delta.dot(invSigma) * delta, axis=1)\n",
    "    density = normalization * np.exp(exponent)\n",
    "    return density"
   ]
  },
  {
   "cell_type": "code",
   "execution_count": 12,
   "metadata": {},
   "outputs": [
    {
     "name": "stdout",
     "output_type": "stream",
     "text": [
      "[0.12030983]\n"
     ]
    }
   ],
   "source": [
    "# Example usage:\n",
    "mu = np.array([0, 0])\n",
    "Sigma = np.array([[1, 0.5], [0.5, 2]])\n",
    "x = np.array([0, 0])\n",
    "print(multivariate_normal_density(x, mu, Sigma))  # Output: 0.09056540022763257"
   ]
  },
  {
   "cell_type": "code",
   "execution_count": 13,
   "metadata": {},
   "outputs": [
    {
     "name": "stdout",
     "output_type": "stream",
     "text": [
      "0.12030982838508356\n"
     ]
    }
   ],
   "source": [
    "#sample code taken from https://docs.scipy.org/doc/scipy/reference/generated/scipy.stats.multivariate_normal.html\n",
    "##x = np.linspace(0, 5, 10, endpoint=False)\n",
    "#y = multivariate_normal.pdf(x, mean=2.5, cov=1); y\n",
    "#np.array([ 0.00108914,  0.01033349,  0.05946514,  0.20755375,  0.43939129,\n",
    "#        0.56418958,  0.43939129,  0.20755375,  0.05946514,  0.01033349])\n",
    "#fig1 = plt.figure()\n",
    "#ax = fig1.add_subplot(111)\n",
    "#ax.plot(x, y)\n",
    "#plt.show()\n",
    "print(multivariate_normal(mean= mu, cov=Sigma).pdf(x))"
   ]
  },
  {
   "cell_type": "code",
   "execution_count": 15,
   "metadata": {},
   "outputs": [
    {
     "name": "stdout",
     "output_type": "stream",
     "text": [
      "[0.15915494]\n"
     ]
    }
   ],
   "source": [
    "#Spherical Gaussian ChatGPT\n",
    "mu = np.array([0, 0])\n",
    "variance=1.0\n",
    "Sigma = np.eye(len(mu)) * variance\n",
    "x = np.array([0, 0])\n",
    "print(multivariate_normal_density(x, mu, Sigma))"
   ]
  },
  {
   "cell_type": "code",
   "execution_count": 16,
   "metadata": {},
   "outputs": [
    {
     "name": "stdout",
     "output_type": "stream",
     "text": [
      "0.15915494309189535\n"
     ]
    }
   ],
   "source": [
    "#Spherical Gaussian SciPy\n",
    "print(multivariate_normal(mean= mu, cov=Sigma).pdf(x))"
   ]
  },
  {
   "cell_type": "code",
   "execution_count": 21,
   "metadata": {},
   "outputs": [
    {
     "name": "stdout",
     "output_type": "stream",
     "text": [
      "[0.11253954]\n"
     ]
    }
   ],
   "source": [
    "#Diagonal Gaussian ChatGPT\n",
    "mu = np.array([0, 0])\n",
    "variance= np.array ([1.0,2.0])\n",
    "Sigma = np.diag(variance)\n",
    "x = np.array([0, 0])\n",
    "print(multivariate_normal_density(x, mu, Sigma))"
   ]
  },
  {
   "cell_type": "code",
   "execution_count": 22,
   "metadata": {},
   "outputs": [
    {
     "name": "stdout",
     "output_type": "stream",
     "text": [
      "0.11253953951963827\n"
     ]
    }
   ],
   "source": [
    "#Diagonal Gaussian SciPy\n",
    "print(multivariate_normal(mean= mu, cov=Sigma).pdf(x))"
   ]
  },
  {
   "cell_type": "code",
   "execution_count": 19,
   "metadata": {},
   "outputs": [
    {
     "name": "stdout",
     "output_type": "stream",
     "text": [
      "[0.11253954]\n"
     ]
    }
   ],
   "source": [
    "#Full covariance Gaussian ChatGPT\n",
    "mu = np.array([0, 0])\n",
    "Sigma = np.array([[2, 1], [1, 1.5]])\n",
    "x = np.array([0, 0])\n",
    "print(multivariate_normal_density(x, mu, Sigma))"
   ]
  },
  {
   "cell_type": "code",
   "execution_count": 20,
   "metadata": {},
   "outputs": [
    {
     "name": "stdout",
     "output_type": "stream",
     "text": [
      "0.11253953951963827\n"
     ]
    }
   ],
   "source": [
    "#Full covariance Gaussian SciPy\n",
    "print(multivariate_normal(mean= mu, cov=Sigma).pdf(x))"
   ]
  }
 ],
 "metadata": {
  "kernelspec": {
   "display_name": "cog_m",
   "language": "python",
   "name": "python3"
  },
  "language_info": {
   "codemirror_mode": {
    "name": "ipython",
    "version": 3
   },
   "file_extension": ".py",
   "mimetype": "text/x-python",
   "name": "python",
   "nbconvert_exporter": "python",
   "pygments_lexer": "ipython3",
   "version": "3.12.1"
  }
 },
 "nbformat": 4,
 "nbformat_minor": 2
}
