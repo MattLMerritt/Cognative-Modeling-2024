{
 "cells": [
  {
   "cell_type": "code",
   "execution_count": 4,
   "metadata": {},
   "outputs": [],
   "source": [
    "import numpy as np\n",
    "import matplotlib.pyplot as plt\n",
    "import seaborn as sns\n",
    "import pandas as pd\n",
    "import pystan\n",
    "##import arviz as az\n",
    "\n",
    "##import nest_asyncio\n",
    "##nest_asyncio.apply()"
   ]
  },
  {
   "cell_type": "code",
   "execution_count": 5,
   "metadata": {},
   "outputs": [
    {
     "name": "stdout",
     "output_type": "stream",
     "text": [
      "data {\n",
      "    int<lower=1> N;\n",
      "    array[N] real<lower=0> y;\n",
      "    array[N] int<lower=1, upper=2> condition;\n",
      "    array[N] int<lower=0, upper=1> choice;\n",
      "}\n",
      "\n",
      "parameters {\n",
      "    // Your code here\n",
      "}\n",
      "\n",
      "model {\n",
      "    // Priors\n",
      "    // Your code here\n",
      "\n",
      "    // Likelihood\n",
      "    for (n in 1:N) {\n",
      "        // Condition 1\n",
      "        if (condition[n] == 1) {\n",
      "            if (choice[n] == 1) {\n",
      "                 // Your code here\n",
      "            }\n",
      "            else {\n",
      "                 // Your code here\n",
      "            }\n",
      "        }\n",
      "        // Condition 2\n",
      "        if (condition[n] == 2) {\n",
      "            if (choice[n] == 1) {\n",
      "                // Your code here\n",
      "            }\n",
      "            else {\n",
      "                 // Your code here\n",
      "            }\n",
      "        }\n",
      "    }\n",
      "}\n"
     ]
    }
   ],
   "source": [
    "# Open the Stan file\n",
    "with open('diffusion_model.stan', 'r') as file:\n",
    "    stan_code = file.read()\n",
    "\n",
    "# Print the Stan code\n",
    "print(stan_code)"
   ]
  },
  {
   "cell_type": "code",
   "execution_count": 20,
   "metadata": {},
   "outputs": [],
   "source": [
    "# Import the CSV file into a pandas DataFrame\n",
    "df = pd.read_csv('sample_response_times.csv', delimiter=';',dtype={'rt': float, 'choice': int, 'condition': int})"
   ]
  },
  {
   "cell_type": "code",
   "execution_count": 24,
   "metadata": {},
   "outputs": [],
   "source": [
    "##Program code for stan model. Contains all of the parameter specifications\n",
    "program_code=\"\"\"\n",
    "    data {\n",
    "        int<lower=1> N;\n",
    "        real y[N];\n",
    "        int<lower=1, upper=2> condition[N];  \n",
    "        int<lower=0, upper=1> choice[N]; \n",
    "    }\n",
    "\n",
    "    parameters {\n",
    "        real<lower=0> v1;\n",
    "        real<lower=0> v2;\n",
    "        real<lower=0> a;\n",
    "        real<lower=0, upper=1> beta;\n",
    "        real<lower=0> tau;\n",
    "    }\n",
    "\n",
    "    model {\n",
    "        // Priors\n",
    "        v2~ normal(0.567,0.132); //prior for drift rate parameter v\n",
    "        v1~ normal(0.529,0.116);\n",
    "        a ~ normal(1.5,0.5); //prior for boundary seperation\n",
    "        beta ~ normal(0.5, 0.1);\n",
    "        tau ~ normal (0.3,0.1);\n",
    "        // Likelihood\n",
    "        for (n in 1:N) {\n",
    "            // Condition 1\n",
    "            if (condition[n] == 1) {\n",
    "                if (choice[n] == 1) {\n",
    "                    y[n] ~ normal(v1, beta); //correct\n",
    "                }\n",
    "                else {\n",
    "                    y[n] ~ normal(v1, beta); //incorrect\n",
    "                }\n",
    "            }\n",
    "            // Condition 2\n",
    "            if (condition[n] == 2) {\n",
    "                if (choice[n] == 1) {\n",
    "                    y[n] ~ normal(v2, beta); //correct\n",
    "                }\n",
    "                else {\n",
    "                    y[n] ~ normal(v2, beta); //incorrect\n",
    "                }\n",
    "            }\n",
    "        }\n",
    "    }\n",
    "\"\"\""
   ]
  },
  {
   "cell_type": "code",
   "execution_count": 11,
   "metadata": {},
   "outputs": [],
   "source": [
    "def visualize_data(data, figsize=(10, 5)):\n",
    "    \"\"\"Helper function to visualize a simple response time data set.\"\"\"\n",
    "\n",
    "    f, axarr = plt.subplots(1, 2, figsize=figsize)\n",
    "    \n",
    "    # Histogram of response times\n",
    "    sns.histplot(\n",
    "        data[:, 0][data[:, 1] == 1], ax=axarr[0], color='#AA0000', alpha=0.8, lw=2, label=f'Response 1')\n",
    "    sns.histplot(\n",
    "        data[:, 0][data[:, 1] == 0], ax=axarr[0], color='#0000AA', alpha=0.8, lw=2, label=f'Response 0')\n",
    "\n",
    "    # Barplot of categorical responses\n",
    "    response, frequency = np.unique(data[:, 1], return_counts=True)\n",
    "    sns.barplot(x=response.astype(np.int32), y=frequency, ax=axarr[1], alpha=0.8, color='#00AA00')\n",
    "\n",
    "    # Labels and embelishments\n",
    "    axarr[0].set_xlabel('Response time (s)', fontsize=16)\n",
    "    axarr[0].legend(fontsize=16)\n",
    "    axarr[0].set_ylabel('Count', fontsize=16)\n",
    "    axarr[1].set_xlabel('Response', fontsize=16)\n",
    "    axarr[1].set_ylabel('Frequency', fontsize=16)\n",
    "    for ax in axarr:\n",
    "        sns.despine(ax=ax)\n",
    "        ax.grid(alpha=0.1, color='black')\n",
    "\n",
    "    f.suptitle('Data Summary', fontsize=18)\n",
    "\n",
    "    f.tight_layout()"
   ]
  },
  {
   "cell_type": "code",
   "execution_count": 25,
   "metadata": {},
   "outputs": [
    {
     "name": "stdout",
     "output_type": "stream",
     "text": [
      "1.5\n",
      "0.5008354224706334\n"
     ]
    }
   ],
   "source": [
    "##Calculates standard deviation\n",
    "mean_a=df['condition'].mean()\n",
    "std_deva=df['condition'].std()\n",
    "print(mean_a)\n",
    "print(std_deva)"
   ]
  },
  {
   "cell_type": "code",
   "execution_count": 26,
   "metadata": {},
   "outputs": [
    {
     "name": "stderr",
     "output_type": "stream",
     "text": [
      "INFO:pystan:COMPILING THE C++ CODE FOR MODEL anon_model_5839e4c6a8e289dabd2386c961bc4946 NOW.\n"
     ]
    },
    {
     "name": "stdout",
     "output_type": "stream",
     "text": [
      "Inference for Stan model: anon_model_5839e4c6a8e289dabd2386c961bc4946.\n",
      "4 chains, each with iter=1000; warmup=500; thin=1; \n",
      "post-warmup draws per chain=500, total post-warmup draws=2000.\n",
      "\n",
      "       mean se_mean     sd   2.5%    25%    50%    75%  97.5%  n_eff   Rhat\n",
      "v1     0.53  2.0e-4   0.01   0.51   0.52   0.53   0.54   0.55   2897    1.0\n",
      "v2     0.57  2.0e-4   0.01   0.55   0.56   0.57   0.57   0.59   2704    1.0\n",
      "a      1.53    0.01   0.48   0.59    1.2   1.51   1.86   2.47   2141    1.0\n",
      "beta   0.13  9.6e-5 5.3e-3   0.12   0.12   0.13   0.13   0.14   3025    1.0\n",
      "tau     0.3  2.9e-3    0.1   0.09   0.24    0.3   0.37   0.49   1168    1.0\n",
      "lp__ 460.79    0.07    1.7 456.57 459.87 461.15 462.08 463.04    660    1.0\n",
      "\n",
      "Samples were drawn using NUTS at Sun Mar 17 17:00:42 2024.\n",
      "For each parameter, n_eff is a crude measure of effective sample size,\n",
      "and Rhat is the potential scale reduction factor on split chains (at \n",
      "convergence, Rhat=1).\n"
     ]
    }
   ],
   "source": [
    "model = pystan.StanModel(model_code=program_code)\n",
    "##data preparation\n",
    "data={\n",
    "    'N':len(df),\n",
    "    'y':df['rt'],\n",
    "    'condition':df['condition'],\n",
    "    'choice': df['choice']\n",
    "}\n",
    "##Run model for analysis\n",
    "Output=model.sampling(data=data,iter=1000,chains=4)\n",
    "##Print to test code\n",
    "print(Output)"
   ]
  }
 ],
 "metadata": {
  "kernelspec": {
   "display_name": "stan_env",
   "language": "python",
   "name": "python3"
  },
  "language_info": {
   "codemirror_mode": {
    "name": "ipython",
    "version": 3
   },
   "file_extension": ".py",
   "mimetype": "text/x-python",
   "name": "python",
   "nbconvert_exporter": "python",
   "pygments_lexer": "ipython3",
   "version": "3.7.16"
  }
 },
 "nbformat": 4,
 "nbformat_minor": 2
}
