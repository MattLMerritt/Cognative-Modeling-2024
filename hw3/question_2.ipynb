{
 "cells": [
  {
   "cell_type": "code",
   "execution_count": 19,
   "metadata": {},
   "outputs": [
    {
     "ename": "KeyboardInterrupt",
     "evalue": "",
     "output_type": "error",
     "traceback": [
      "\u001b[1;31m---------------------------------------------------------------------------\u001b[0m",
      "\u001b[1;31mKeyboardInterrupt\u001b[0m                         Traceback (most recent call last)",
      "\u001b[1;32m~\\AppData\\Local\\Temp\\ipykernel_20196\\2481129716.py\u001b[0m in \u001b[0;36m<module>\u001b[1;34m\u001b[0m\n\u001b[1;32m----> 1\u001b[1;33m \u001b[1;32mimport\u001b[0m \u001b[0mnumpy\u001b[0m \u001b[1;32mas\u001b[0m \u001b[0mnp\u001b[0m\u001b[1;33m\u001b[0m\u001b[1;33m\u001b[0m\u001b[0m\n\u001b[0m\u001b[0;32m      2\u001b[0m \u001b[1;32mimport\u001b[0m \u001b[0mmatplotlib\u001b[0m\u001b[1;33m.\u001b[0m\u001b[0mpyplot\u001b[0m \u001b[1;32mas\u001b[0m \u001b[0mplt\u001b[0m\u001b[1;33m\u001b[0m\u001b[1;33m\u001b[0m\u001b[0m\n\u001b[0;32m      3\u001b[0m \u001b[1;31m##import seaborn as sns\u001b[0m\u001b[1;33m\u001b[0m\u001b[1;33m\u001b[0m\u001b[1;33m\u001b[0m\u001b[0m\n\u001b[0;32m      4\u001b[0m \u001b[1;32mimport\u001b[0m \u001b[0mpandas\u001b[0m \u001b[1;32mas\u001b[0m \u001b[0mpd\u001b[0m\u001b[1;33m\u001b[0m\u001b[1;33m\u001b[0m\u001b[0m\n\u001b[0;32m      5\u001b[0m \u001b[1;32mimport\u001b[0m \u001b[0mpystan\u001b[0m \u001b[1;32mas\u001b[0m \u001b[0mstan\u001b[0m\u001b[1;33m\u001b[0m\u001b[1;33m\u001b[0m\u001b[0m\n",
      "\u001b[1;32m~\\AppData\\Local\\Temp\\ipykernel_20196\\2481129716.py\u001b[0m in \u001b[0;36m<module>\u001b[1;34m\u001b[0m\n\u001b[1;32m----> 1\u001b[1;33m \u001b[1;32mimport\u001b[0m \u001b[0mnumpy\u001b[0m \u001b[1;32mas\u001b[0m \u001b[0mnp\u001b[0m\u001b[1;33m\u001b[0m\u001b[1;33m\u001b[0m\u001b[0m\n\u001b[0m\u001b[0;32m      2\u001b[0m \u001b[1;32mimport\u001b[0m \u001b[0mmatplotlib\u001b[0m\u001b[1;33m.\u001b[0m\u001b[0mpyplot\u001b[0m \u001b[1;32mas\u001b[0m \u001b[0mplt\u001b[0m\u001b[1;33m\u001b[0m\u001b[1;33m\u001b[0m\u001b[0m\n\u001b[0;32m      3\u001b[0m \u001b[1;31m##import seaborn as sns\u001b[0m\u001b[1;33m\u001b[0m\u001b[1;33m\u001b[0m\u001b[1;33m\u001b[0m\u001b[0m\n\u001b[0;32m      4\u001b[0m \u001b[1;32mimport\u001b[0m \u001b[0mpandas\u001b[0m \u001b[1;32mas\u001b[0m \u001b[0mpd\u001b[0m\u001b[1;33m\u001b[0m\u001b[1;33m\u001b[0m\u001b[0m\n\u001b[0;32m      5\u001b[0m \u001b[1;32mimport\u001b[0m \u001b[0mpystan\u001b[0m \u001b[1;32mas\u001b[0m \u001b[0mstan\u001b[0m\u001b[1;33m\u001b[0m\u001b[1;33m\u001b[0m\u001b[0m\n",
      "\u001b[1;32m_pydevd_bundle/pydevd_cython.pyx\u001b[0m in \u001b[0;36m_pydevd_bundle.pydevd_cython.SafeCallWrapper.__call__\u001b[1;34m()\u001b[0m\n",
      "\u001b[1;32m_pydevd_bundle/pydevd_cython.pyx\u001b[0m in \u001b[0;36m_pydevd_bundle.pydevd_cython.PyDBFrame.trace_dispatch\u001b[1;34m()\u001b[0m\n",
      "\u001b[1;32m_pydevd_bundle/pydevd_cython.pyx\u001b[0m in \u001b[0;36m_pydevd_bundle.pydevd_cython.PyDBFrame.trace_dispatch\u001b[1;34m()\u001b[0m\n",
      "\u001b[1;32m_pydevd_bundle/pydevd_cython.pyx\u001b[0m in \u001b[0;36m_pydevd_bundle.pydevd_cython.PyDBFrame.trace_dispatch\u001b[1;34m()\u001b[0m\n",
      "\u001b[1;32m_pydevd_bundle/pydevd_cython.pyx\u001b[0m in \u001b[0;36m_pydevd_bundle.pydevd_cython.PyDBFrame.do_wait_suspend\u001b[1;34m()\u001b[0m\n",
      "\u001b[1;32m~\\AppData\\Roaming\\Python\\Python37\\site-packages\\debugpy\\_vendored\\pydevd\\pydevd.py\u001b[0m in \u001b[0;36mdo_wait_suspend\u001b[1;34m(self, thread, frame, event, arg, exception_type)\u001b[0m\n\u001b[0;32m   2068\u001b[0m \u001b[1;33m\u001b[0m\u001b[0m\n\u001b[0;32m   2069\u001b[0m             \u001b[1;32mwith\u001b[0m \u001b[0mself\u001b[0m\u001b[1;33m.\u001b[0m\u001b[0m_threads_suspended_single_notification\u001b[0m\u001b[1;33m.\u001b[0m\u001b[0mnotify_thread_suspended\u001b[0m\u001b[1;33m(\u001b[0m\u001b[0mthread_id\u001b[0m\u001b[1;33m,\u001b[0m \u001b[0mthread\u001b[0m\u001b[1;33m,\u001b[0m \u001b[0mstop_reason\u001b[0m\u001b[1;33m)\u001b[0m\u001b[1;33m:\u001b[0m\u001b[1;33m\u001b[0m\u001b[1;33m\u001b[0m\u001b[0m\n\u001b[1;32m-> 2070\u001b[1;33m                 \u001b[0mkeep_suspended\u001b[0m \u001b[1;33m=\u001b[0m \u001b[0mself\u001b[0m\u001b[1;33m.\u001b[0m\u001b[0m_do_wait_suspend\u001b[0m\u001b[1;33m(\u001b[0m\u001b[0mthread\u001b[0m\u001b[1;33m,\u001b[0m \u001b[0mframe\u001b[0m\u001b[1;33m,\u001b[0m \u001b[0mevent\u001b[0m\u001b[1;33m,\u001b[0m \u001b[0marg\u001b[0m\u001b[1;33m,\u001b[0m \u001b[0msuspend_type\u001b[0m\u001b[1;33m,\u001b[0m \u001b[0mfrom_this_thread\u001b[0m\u001b[1;33m,\u001b[0m \u001b[0mframes_tracker\u001b[0m\u001b[1;33m)\u001b[0m\u001b[1;33m\u001b[0m\u001b[1;33m\u001b[0m\u001b[0m\n\u001b[0m\u001b[0;32m   2071\u001b[0m \u001b[1;33m\u001b[0m\u001b[0m\n\u001b[0;32m   2072\u001b[0m         \u001b[0mframes_list\u001b[0m \u001b[1;33m=\u001b[0m \u001b[1;32mNone\u001b[0m\u001b[1;33m\u001b[0m\u001b[1;33m\u001b[0m\u001b[0m\n",
      "\u001b[1;32m~\\AppData\\Roaming\\Python\\Python37\\site-packages\\debugpy\\_vendored\\pydevd\\pydevd.py\u001b[0m in \u001b[0;36m_do_wait_suspend\u001b[1;34m(self, thread, frame, event, arg, suspend_type, from_this_thread, frames_tracker)\u001b[0m\n\u001b[0;32m   2104\u001b[0m \u001b[1;33m\u001b[0m\u001b[0m\n\u001b[0;32m   2105\u001b[0m             \u001b[0mself\u001b[0m\u001b[1;33m.\u001b[0m\u001b[0mprocess_internal_commands\u001b[0m\u001b[1;33m(\u001b[0m\u001b[1;33m)\u001b[0m\u001b[1;33m\u001b[0m\u001b[1;33m\u001b[0m\u001b[0m\n\u001b[1;32m-> 2106\u001b[1;33m             \u001b[0mtime\u001b[0m\u001b[1;33m.\u001b[0m\u001b[0msleep\u001b[0m\u001b[1;33m(\u001b[0m\u001b[1;36m0.01\u001b[0m\u001b[1;33m)\u001b[0m\u001b[1;33m\u001b[0m\u001b[1;33m\u001b[0m\u001b[0m\n\u001b[0m\u001b[0;32m   2107\u001b[0m \u001b[1;33m\u001b[0m\u001b[0m\n\u001b[0;32m   2108\u001b[0m         \u001b[0mself\u001b[0m\u001b[1;33m.\u001b[0m\u001b[0mcancel_async_evaluation\u001b[0m\u001b[1;33m(\u001b[0m\u001b[0mget_current_thread_id\u001b[0m\u001b[1;33m(\u001b[0m\u001b[0mthread\u001b[0m\u001b[1;33m)\u001b[0m\u001b[1;33m,\u001b[0m \u001b[0mstr\u001b[0m\u001b[1;33m(\u001b[0m\u001b[0mid\u001b[0m\u001b[1;33m(\u001b[0m\u001b[0mframe\u001b[0m\u001b[1;33m)\u001b[0m\u001b[1;33m)\u001b[0m\u001b[1;33m)\u001b[0m\u001b[1;33m\u001b[0m\u001b[1;33m\u001b[0m\u001b[0m\n",
      "\u001b[1;31mKeyboardInterrupt\u001b[0m: "
     ]
    }
   ],
   "source": [
    "import numpy as np\n",
    "import matplotlib.pyplot as plt\n",
    "##import seaborn as sns\n",
    "import pandas as pd\n",
    "import pystan as stan"
   ]
  },
  {
   "cell_type": "code",
   "execution_count": 3,
   "metadata": {},
   "outputs": [
    {
     "name": "stdout",
     "output_type": "stream",
     "text": [
      "    old_new  remember  accuracy\n",
      "0         0         0         1\n",
      "1         0         0         1\n",
      "2         1         1         1\n",
      "3         1         1         1\n",
      "4         0         0         1\n",
      "5         0         0         1\n",
      "6         1         1         1\n",
      "7         0         0         1\n",
      "8         1         1         1\n",
      "9         1         1         1\n",
      "10        0         0         1\n",
      "11        0         0         1\n",
      "12        0         0         1\n",
      "13        1         1         1\n",
      "14        1         0         1\n",
      "15        0         0         1\n",
      "16        1         1         1\n",
      "17        0         1         0\n",
      "18        1         1         1\n",
      "19        1         1         1\n"
     ]
    }
   ],
   "source": [
    "df = pd.read_csv('MRT_Data.csv', delimiter=';',dtype={'old_new': int, 'choice': int, 'accuracy': int})\n",
    "##print for debug\n",
    "print(df)"
   ]
  },
  {
   "cell_type": "code",
   "execution_count": 29,
   "metadata": {},
   "outputs": [],
   "source": [
    "OneHT_program_code = \"\"\"\n",
    "data {\n",
    "    int<lower=0> N; // Number of data points\n",
    "    int<lower=0, upper=1> is_old[N]; // Indicator for old (1) or new (0) word\n",
    "    int<lower=0, upper=1> is_confident[N]; // Indicator for confident (1) or not (0)\n",
    "    int<lower=0, upper=1> is_correct[N]; // Indicator for correct (1) or wrong (0) response\n",
    "}\n",
    "parameters {\n",
    "    real mu;        // Mean\n",
    "    real<lower=0> sigma; // Standard deviation\n",
    "    real<lower=0, upper=1> pho; // Probability of remembering a studied item\n",
    "    real<lower=0, upper=1> gamma; // Probability of guessing old when no memory\n",
    "    \n",
    "}\n",
    "model {\n",
    "    //prior distributions\n",
    "    pho ~ beta(1,1);\n",
    "    gamma ~ beta(1,1);\n",
    "    for (i in 1:N) {\n",
    "        if (is_old[i] == 1&&is_correct[i]==1) {\n",
    "            is_confident[i] ~ bernoulli(pho);\n",
    "            if(is_confident[i]==0){1~bernoulli(gamma);} \n",
    "        }\n",
    "        else{\n",
    "            if(is_correct[i]==1){0~bernoulli(gamma);}\n",
    "            else{1~bernoulli(gamma);}\n",
    "        }\n",
    "    }\n",
    "}\n",
    "\"\"\""
   ]
  },
  {
   "cell_type": "code",
   "execution_count": 34,
   "metadata": {},
   "outputs": [],
   "source": [
    "TwoHT_program_code = \"\"\"\n",
    "data {\n",
    "    int<lower=0> N; // Number of data points\n",
    "    int<lower=0, upper=1> is_old[N]; // Indicator for old (1) or new (0) word\n",
    "    int<lower=0, upper=1> is_confident[N]; // Indicator for confident (1) or not (0)\n",
    "    int<lower=0, upper=1> is_correct[N]; // Indicator for correct (1) or wrong (0) response\n",
    "}\n",
    "parameters {\n",
    "    real mu;        // Mean\n",
    "    real<lower=0> sigma; // Standard deviation\n",
    "    real<lower=0, upper=1> theta1; // First threshold\n",
    "    real<lower=0, upper=1> theta2; // Second threshold\n",
    "}\n",
    "model {\n",
    "//prior distributions\n",
    "    pho ~ beta(1,1);\n",
    "    gamma ~ beta(1,1);\n",
    "    for (i in 1:N) {\n",
    "        if(is_correct[i]==1){\n",
    "            is_confident[i] ~ bernoulli(pho);\n",
    "            if(is_confident[i]==0){\n",
    "                if(is_old[i]==1){\n",
    "                    1~bernoulli(gamma);\n",
    "                }\n",
    "                else{0~bernoulli(gamma);}\n",
    "            }\n",
    "        }\n",
    "        else{\n",
    "            0~bernoulli(pho);\n",
    "            if(is_old[i]==1){0~bernoulli(gamma);}\n",
    "            else{1~bernoulli(gamma);}\n",
    "        }\n",
    "    }\n",
    "\"\"\""
   ]
  },
  {
   "cell_type": "code",
   "execution_count": 35,
   "metadata": {},
   "outputs": [
    {
     "name": "stderr",
     "output_type": "stream",
     "text": [
      "INFO:pystan:COMPILING THE C++ CODE FOR MODEL anon_model_1e7208daf67add1d04f08e2ac216baa9 NOW.\n",
      "INFO:pystan:COMPILING THE C++ CODE FOR MODEL anon_model_1e7208daf67add1d04f08e2ac216baa9 NOW.\n"
     ]
    }
   ],
   "source": [
    "OneHT_model = stan.StanModel(model_code=OneHT_program_code)\n",
    "TwoHT_model = stan.StanModel(model_code=OneHT_program_code)"
   ]
  },
  {
   "cell_type": "code",
   "execution_count": 32,
   "metadata": {},
   "outputs": [],
   "source": [
    "##data preparation\n",
    "data={\n",
    "    'N':len(df),\n",
    "    'is_old':df['old_new'],\n",
    "    'is_confident':df['remember'],\n",
    "    'is_correct': df['accuracy']\n",
    "}"
   ]
  },
  {
   "cell_type": "code",
   "execution_count": 36,
   "metadata": {},
   "outputs": [
    {
     "name": "stderr",
     "output_type": "stream",
     "text": [
      "WARNING:pystan:n_eff / iter below 0.001 indicates that the effective sample size has likely been overestimated\n",
      "WARNING:pystan:Rhat above 1.1 or below 0.9 indicates that the chains very likely have not mixed\n",
      "WARNING:pystan:7257 of 8000 iterations ended with a divergence (90.7 %).\n",
      "WARNING:pystan:Try running with adapt_delta larger than 0.99 to remove the divergences.\n",
      "WARNING:pystan:2 of 8000 iterations saturated the maximum tree depth of 10 (0.025 %)\n",
      "WARNING:pystan:Run again with max_treedepth larger than 10 to avoid saturation\n",
      "WARNING:pystan:n_eff / iter below 0.001 indicates that the effective sample size has likely been overestimated\n",
      "WARNING:pystan:Rhat above 1.1 or below 0.9 indicates that the chains very likely have not mixed\n",
      "WARNING:pystan:7220 of 8000 iterations ended with a divergence (90.2 %).\n",
      "WARNING:pystan:Try running with adapt_delta larger than 0.99 to remove the divergences.\n"
     ]
    },
    {
     "name": "stdout",
     "output_type": "stream",
     "text": [
      "Inference for Stan model: anon_model_1e7208daf67add1d04f08e2ac216baa9.\n",
      "4 chains, each with iter=4000; warmup=2000; thin=1; \n",
      "post-warmup draws per chain=2000, total post-warmup draws=8000.\n",
      "\n",
      "        mean se_mean     sd    2.5%     25%     50%     75%   97.5%  n_eff   Rhat\n",
      "mu     4.2e5   5.8e5  9.4e5  -5.3e5   -7923   2.6e4   1.7e5   3.2e6      3    3.2\n",
      "sigma    inf     nan    inf 3.6e306 4.2e307 8.8e307 1.4e308 1.8e308    nan    nan\n",
      "pho     0.84  3.4e-3    0.1     0.6    0.78    0.85    0.91    0.98    853    1.0\n",
      "gamma   0.23  4.1e-3   0.12    0.06    0.14    0.21    0.31    0.49    817   1.01\n",
      "lp__  695.24    0.06   1.47  691.54  694.49  695.57  696.35   697.1    663   1.01\n",
      "\n",
      "Samples were drawn using NUTS at Thu Apr 11 23:29:35 2024.\n",
      "For each parameter, n_eff is a crude measure of effective sample size,\n",
      "and Rhat is the potential scale reduction factor on split chains (at \n",
      "convergence, Rhat=1).\n",
      "Inference for Stan model: anon_model_1e7208daf67add1d04f08e2ac216baa9.\n",
      "4 chains, each with iter=4000; warmup=2000; thin=1; \n",
      "post-warmup draws per chain=2000, total post-warmup draws=8000.\n",
      "\n",
      "        mean se_mean     sd    2.5%     25%     50%     75%   97.5%  n_eff   Rhat\n",
      "mu     1.3e5   1.2e5  1.9e5  -8.9e4  -3.0e4   1.1e4   2.7e5   5.1e5      2   2.62\n",
      "sigma    inf     nan    inf 4.1e306 4.3e307 8.7e307 1.3e308 1.7e308    nan    nan\n",
      "pho     0.83  4.1e-3   0.11    0.58    0.77    0.85    0.91    0.98    675    1.0\n",
      "gamma   0.24  3.8e-3   0.11    0.06    0.15    0.22    0.31    0.49    880    1.0\n",
      "lp__  695.28    0.06   1.45  691.67  694.55  695.61  696.35   697.1    542   1.01\n",
      "\n",
      "Samples were drawn using NUTS at Thu Apr 11 23:29:43 2024.\n",
      "For each parameter, n_eff is a crude measure of effective sample size,\n",
      "and Rhat is the potential scale reduction factor on split chains (at \n",
      "convergence, Rhat=1).\n"
     ]
    }
   ],
   "source": [
    "OneHT_fit = OneHT_model.sampling(data=data, chains=4, iter=4000,control={'adapt_delta': 0.99})\n",
    "TwoHT_fit = TwoHT_model.sampling(data=data, chains=4, iter=4000,control={'adapt_delta': 0.99})\n",
    "\n",
    "#convergence inspection and estimations\n",
    "print(OneHT_fit)\n",
    "print(TwoHT_fit)\n"
   ]
  }
 ],
 "metadata": {
  "kernelspec": {
   "display_name": "Python 3",
   "language": "python",
   "name": "python3"
  },
  "language_info": {
   "codemirror_mode": {
    "name": "ipython",
    "version": 3
   },
   "file_extension": ".py",
   "mimetype": "text/x-python",
   "name": "python",
   "nbconvert_exporter": "python",
   "pygments_lexer": "ipython3",
   "version": "3.7.16"
  }
 },
 "nbformat": 4,
 "nbformat_minor": 2
}
