{
 "cells": [
  {
   "cell_type": "markdown",
   "metadata": {},
   "source": [
    "# Problem 6: Murder Mystery Revised : The Adventure of the Third Stain\n",
    "\n",
    "## Problem Statement: \n",
    "\n",
    "Construct a small story of your own choosing in the spirit of the “Murder Mystery” we considered in class (can be from a completely different domain). Define a “prior” distribution, a “likelihood”, and justify your selection of probabilities.\n",
    "Create a first folder in your team repository and write a script containing fully vectorized code which simulates your story and outputs a table representing the approximate joint probabilities (which we approximated through the relative frequencies across N simulation runs). Compare this table to the analytic probabilities. How large should N be for the approximate probabilities to become almost indistinguishable from the analytic ones?\n"
   ]
  },
  {
   "cell_type": "markdown",
   "metadata": {},
   "source": [
    "## The Adventure of the Third Stain\n",
    "\n",
    "### Description\n",
    "Within the newly renovated 221B Baker Street townhouse, the entry way is the first thing everyone who lives in the townhouse sees before walking to their apartment. This place is sacred to all 2 new residence to live in the building, but on a dark and stormy night, the landlord comes home to find the walkway a mess. The mystery now forms of who and how was this mess made? Using probabilities, the landlord hopes to get a good idea of which tenet made the mess.\n",
    "\n",
    "### Characters\n",
    "- **John Tesla**  : doctor and teacher \n",
    "- **Hemlock Holmes:** local adventure who likes to solve mysteries \n",
    "\n",
    "### Possible Instruments of Messiness  (tools)\n",
    "- **Dirty Shoes**\n",
    "- **Bat**\n",
    "- **Badger**\n",
    "\n",
    "### Probabilities:\n",
    "#### Priors:\n",
    "- **John Tesla:** \n",
    "  - 30% : like sterilized environments, but is known to partake in experimental arts and crafts for his students\n",
    "- **Hemlock Holmes:** \n",
    "  - 70% : likes exploring new areas and is accustom to messes\n",
    "\n",
    "#### Likelihoods:\n",
    "- **John Tesla:** \n",
    "  - Dirty  Shoes (10%)\n",
    "    - (often has to get new shoes as he steps in a lot of slime)\n",
    "  - Bat  (70%)\n",
    "    - (he's a part of a intermural baseball team on his free time)\n",
    "  - Badger (20%)\n",
    "    - (he likes taking care of the class pet time-to-time, but also is has enough wisdom for selecting reasonable animals to be clas pets)\n",
    "- **Hemlock Holmes** \n",
    "  - Dirty Shoes  (40%)\n",
    "    - (has a outfit that he wears consistently and keeps the same pair of boots)\n",
    "  - Bat (10%)\n",
    "    - (he never was fond of sports)\n",
    "  - Badger (50%) \n",
    "    - (he likes making friends with woodland creatures, but the woodland creatures do not like making friends with him)"
   ]
  },
  {
   "cell_type": "code",
   "execution_count": 63,
   "metadata": {},
   "outputs": [],
   "source": [
    "# imports\n",
    "import numpy as np\n",
    "import pandas as pd\n",
    "import matplotlib as plt\n",
    "from dataclasses import dataclass"
   ]
  },
  {
   "cell_type": "code",
   "execution_count": 38,
   "metadata": {},
   "outputs": [],
   "source": [
    "@dataclass\n",
    "class scenario:\n",
    "    \"\"\"Class for keeping track of an item in inventory.\"\"\"\n",
    "    characters: tuple = ('John Tesla', 'Hemlock Holmes')\n",
    "    tools: tuple = ('Dirty Shoes', 'Bat', 'Badger')\n",
    "    prior_probs: tuple = (.7, .3) # for character 1 then character 2\n",
    "    character_1_probs: tuple = (.1, .7, .2)\n",
    "    character_2_probs: tuple = (.4, .1, .5)"
   ]
  },
  {
   "cell_type": "code",
   "execution_count": 39,
   "metadata": {},
   "outputs": [],
   "source": [
    "# Story Helper Functions\n",
    "\n",
    "def draw_prior(suspects, probs):\n",
    "    return np.random.choice(suspects, p=probs)\n",
    "\n",
    "def draw_model(tools, character, char_1_probs, char_2_probs):\n",
    "    if character == 'John Tesla':\n",
    "        return np.random.choice(tools, p=char_1_probs)\n",
    "    return np.random.choice(tools, p=char_2_probs)\n",
    "\n",
    "def draw_joint(tools, suspects, prior_probs, char_1_probs, char_2_probs):\n",
    "    s = draw_prior(suspects, prior_probs)\n",
    "    t = draw_model(tools, s, char_1_probs, char_2_probs)\n",
    "    return s + ' using ' + t\n",
    "\n",
    "def simulator(*args, num_sims=1000):\n",
    "    return [draw_joint(*args) for _ in range(num_sims)]"
   ]
  },
  {
   "cell_type": "code",
   "execution_count": 40,
   "metadata": {},
   "outputs": [],
   "source": [
    "# Run simulation\n",
    "num_sims = 100000\n",
    "situation = scenario()\n",
    "sims = simulator(situation.tools, \\\n",
    "                 situation.characters, \\\n",
    "                    situation.prior_probs, \\\n",
    "                        situation.character_1_probs, \\\n",
    "                            situation.character_2_probs, \\\n",
    "                                num_sims=num_sims)"
   ]
  },
  {
   "cell_type": "code",
   "execution_count": 41,
   "metadata": {},
   "outputs": [
    {
     "data": {
      "text/html": [
       "<div>\n",
       "<style scoped>\n",
       "    .dataframe tbody tr th:only-of-type {\n",
       "        vertical-align: middle;\n",
       "    }\n",
       "\n",
       "    .dataframe tbody tr th {\n",
       "        vertical-align: top;\n",
       "    }\n",
       "\n",
       "    .dataframe thead th {\n",
       "        text-align: right;\n",
       "    }\n",
       "</style>\n",
       "<table border=\"1\" class=\"dataframe\">\n",
       "  <thead>\n",
       "    <tr style=\"text-align: right;\">\n",
       "      <th></th>\n",
       "      <th>Scenario</th>\n",
       "      <th>Occurences</th>\n",
       "      <th>Approximate Probability</th>\n",
       "      <th>Analytic Probability</th>\n",
       "    </tr>\n",
       "  </thead>\n",
       "  <tbody>\n",
       "    <tr>\n",
       "      <th>0</th>\n",
       "      <td>Hemlock Holmes using Badger</td>\n",
       "      <td>14863</td>\n",
       "      <td>0.14863</td>\n",
       "      <td>0.15</td>\n",
       "    </tr>\n",
       "    <tr>\n",
       "      <th>1</th>\n",
       "      <td>Hemlock Holmes using Bat</td>\n",
       "      <td>2886</td>\n",
       "      <td>0.02886</td>\n",
       "      <td>0.03</td>\n",
       "    </tr>\n",
       "    <tr>\n",
       "      <th>2</th>\n",
       "      <td>Hemlock Holmes using Dirty Shoes</td>\n",
       "      <td>12131</td>\n",
       "      <td>0.12131</td>\n",
       "      <td>0.12</td>\n",
       "    </tr>\n",
       "    <tr>\n",
       "      <th>3</th>\n",
       "      <td>John Tesla using Badger</td>\n",
       "      <td>14179</td>\n",
       "      <td>0.14179</td>\n",
       "      <td>0.14</td>\n",
       "    </tr>\n",
       "    <tr>\n",
       "      <th>4</th>\n",
       "      <td>John Tesla using Bat</td>\n",
       "      <td>48962</td>\n",
       "      <td>0.48962</td>\n",
       "      <td>0.49</td>\n",
       "    </tr>\n",
       "    <tr>\n",
       "      <th>5</th>\n",
       "      <td>John Tesla using Dirty Shoes</td>\n",
       "      <td>6979</td>\n",
       "      <td>0.06979</td>\n",
       "      <td>0.07</td>\n",
       "    </tr>\n",
       "  </tbody>\n",
       "</table>\n",
       "</div>"
      ],
      "text/plain": [
       "                           Scenario  Occurences  Approximate Probability  \\\n",
       "0       Hemlock Holmes using Badger       14863                  0.14863   \n",
       "1          Hemlock Holmes using Bat        2886                  0.02886   \n",
       "2  Hemlock Holmes using Dirty Shoes       12131                  0.12131   \n",
       "3           John Tesla using Badger       14179                  0.14179   \n",
       "4              John Tesla using Bat       48962                  0.48962   \n",
       "5      John Tesla using Dirty Shoes        6979                  0.06979   \n",
       "\n",
       "   Analytic Probability  \n",
       "0                  0.15  \n",
       "1                  0.03  \n",
       "2                  0.12  \n",
       "3                  0.14  \n",
       "4                  0.49  \n",
       "5                  0.07  "
      ]
     },
     "execution_count": 41,
     "metadata": {},
     "output_type": "execute_result"
    }
   ],
   "source": [
    "# Graph simulation results\n",
    "\n",
    "# Identify occurences for the given situation\n",
    "scenarios, occurences = np.unique(sims, return_counts=True)\n",
    "\n",
    "# Create dataframe representation\n",
    "results_df = pd.DataFrame({\n",
    "    'Scenario': scenarios,\n",
    "    'Occurences': occurences,\n",
    "    'Approximate Probability': occurences / num_sims\n",
    "})\n",
    "\n",
    "# Define analytical probabilities for situation\n",
    "analytic_probs = {\n",
    "    'John Tesla using Dirty Shoes': situation.prior_probs[0] *  situation.character_1_probs[0],\n",
    "    'John Tesla using Bat': situation.prior_probs[0] * situation.character_1_probs[1],\n",
    "    'John Tesla using Badger': situation.prior_probs[0] * situation.character_1_probs[2],\n",
    "    'Hemlock Holmes using Dirty Shoes': situation.prior_probs[1] * situation.character_2_probs[0],\n",
    "    'Hemlock Holmes using Bat': situation.prior_probs[1] *  situation.character_2_probs[1],\n",
    "    'Hemlock Holmes using Badger': situation.prior_probs[1] *  situation.character_2_probs[2]\n",
    "}\n",
    "\n",
    "# Add analytical probabilities for situation\n",
    "results_df['Analytic Probability'] = results_df['Scenario'].map(analytic_probs)\n",
    "\n",
    "# Display results\n",
    "results_df"
   ]
  },
  {
   "cell_type": "code",
   "execution_count": 60,
   "metadata": {},
   "outputs": [
    {
     "name": "stdout",
     "output_type": "stream",
     "text": [
      "1\n",
      "10\n",
      "100\n",
      "1000\n",
      "10000\n",
      "100000\n",
      "1000000\n",
      "10000000\n",
      "100000000\n",
      "1000000000\n"
     ]
    },
    {
     "data": {
      "text/plain": [
       "[array([0.14924, 0.0294 , 0.11911, 0.14141, 0.49037, 0.07047]),\n",
       " array([0.15068, 0.0296 , 0.11874, 0.14015, 0.49052, 0.07031]),\n",
       " array([0.14825, 0.03051, 0.12142, 0.14154, 0.48936, 0.06892]),\n",
       " array([0.14943, 0.03   , 0.12028, 0.14224, 0.48845, 0.0696 ]),\n",
       " array([0.14758, 0.03018, 0.12211, 0.13896, 0.49015, 0.07102]),\n",
       " array([0.1486 , 0.03005, 0.12066, 0.13977, 0.49105, 0.06987]),\n",
       " array([0.15173, 0.02989, 0.12102, 0.14096, 0.48601, 0.07039]),\n",
       " array([0.15195, 0.0308 , 0.11808, 0.13878, 0.49007, 0.07032]),\n",
       " array([0.14909, 0.02959, 0.11912, 0.13981, 0.49228, 0.07011]),\n",
       " array([0.15018, 0.03012, 0.11906, 0.13945, 0.49151, 0.06968])]"
      ]
     },
     "execution_count": 60,
     "metadata": {},
     "output_type": "execute_result"
    }
   ],
   "source": [
    "# plot increasing N\n",
    "\n",
    "situation = scenario()\n",
    "\n",
    "x_axis = []\n",
    "records = []\n",
    "\n",
    "for N in np.logspace(0, 9, num=9+1, base=10, dtype='int'):\n",
    "    print(N)\n",
    "    \n",
    "    sims = simulator(situation.tools, \\\n",
    "                 situation.characters, \\\n",
    "                    situation.prior_probs, \\\n",
    "                        situation.character_1_probs, \\\n",
    "                            situation.character_2_probs, \\\n",
    "                                num_sims=num_sims)\n",
    "\n",
    "    scenarios, occurences = np.unique(sims, return_counts=True)\n",
    "    occurences / num_sims\n",
    "\n",
    "    records.append(occurences / num_sims)\n",
    "\n",
    "    x_axis.append(N)"
   ]
  },
  {
   "cell_type": "code",
   "execution_count": 74,
   "metadata": {},
   "outputs": [
    {
     "data": {
      "image/png": "[encoded data removed]",
      "text/plain": [
       "<Figure size 800x600 with 1 Axes>"
      ]
     },
     "metadata": {},
     "output_type": "display_data"
    }
   ],
   "source": [
    "# Create the plot\n",
    "import matplotlib.pyplot as plt\n",
    "import seaborn as sns\n",
    "\n",
    "# x_axis \n",
    "# records \n",
    "\n",
    "f, ax = plt.subplots(1, 1, figsize=(8, 6))\n",
    "ax.plot(records, color='maroon', alpha=0.7)\n",
    "sns.despine(ax=ax)\n",
    "ax.set_xlabel('N (value is exponent of 10)')\n",
    "ax.set_ylabel('probability value')\n",
    "\n",
    "plt.show()"
   ]
  },
  {
   "cell_type": "markdown",
   "metadata": {},
   "source": [
    "We know the more simulations we run, the more accure we will get, but from a rough analyisis, it can be posutulated that an N of ~1000000 will provide approximate probabilities to become almost indistinguishable from the analytic ones as the graph indicates that the values converge at that N."
   ]
  }
 ],
 "metadata": {
  "kernelspec": {
   "display_name": "cognitive",
   "language": "python",
   "name": "python3"
  },
  "language_info": {
   "codemirror_mode": {
    "name": "ipython",
    "version": 3
   },
   "file_extension": ".py",
   "mimetype": "text/x-python",
   "name": "python",
   "nbconvert_exporter": "python",
   "pygments_lexer": "ipython3",
   "version": "3.11.0"
  }
 },
 "nbformat": 4,
 "nbformat_minor": 2
}
