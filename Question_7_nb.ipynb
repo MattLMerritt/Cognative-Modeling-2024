{
 "cells": [
  {
   "cell_type": "code",
   "execution_count": 4,
   "metadata": {},
   "outputs": [],
   "source": [
    "import numpy as np\n",
    "from scipy import stats\n",
    "import matplotlib.pyplot as plt\n",
    "import seaborn as sns\n",
    "import pandas as pd"
   ]
  },
  {
   "cell_type": "code",
   "execution_count": 1,
   "metadata": {},
   "outputs": [],
   "source": [
    "def probability_sim(sensitivity, specificity,pop_size,output):\n",
    "    pba=sensitivity #Probability of positive being true\n",
    "    for i in range(100):\n",
    "        inf_r=i/100\n",
    "        infected=inf_r*pop_size\n",
    "        pb=(infected)*pba\n",
    "        pb2=((1.0-specificity)*(pop_size-infected))\n",
    "        pb=(pb+pb2)/pop_size\n",
    "        y=(pba*inf_r)/pb\n",
    "        output=np.append(y)"
   ]
  },
  {
   "cell_type": "code",
   "execution_count": null,
   "metadata": {},
   "outputs": [],
   "source": [
    "x=np.array\n",
    "fig1=plt.figure()"
   ]
  },
  {
   "cell_type": "code",
   "execution_count": 2,
   "metadata": {},
   "outputs": [],
   "source": [
    "def probability_sim(prior,specificity,pop_size):\n",
    "    for i in range(100):\n",
    "        pba=i/sensitivity\n",
    "        infected=prior*pop_size\n",
    "        pb=(infected)*pba\n",
    "        pb2=((1.0-specificity)*(pop_size-infected))\n",
    "        pb=(pb+pb2)/pop_size\n",
    "        y=(pba*prior)/pb"
   ]
  },
  {
   "cell_type": "code",
   "execution_count": 3,
   "metadata": {},
   "outputs": [],
   "source": [
    "def probability_sim(prior,sensitivity,pop_size):\n",
    "    pba=sensitivity\n",
    "    for i in range(100):\n",
    "        infected=prior*pop_size\n",
    "        specificity=i/100\n",
    "        pb=(infected)*pba\n",
    "        pb2=((1.0-specificity)*(pop_size-infected))\n",
    "        pb=(pb+pb2)/pop_size\n",
    "        y=(pba*prior)/pb\n",
    "    "
   ]
  }
 ],
 "metadata": {
  "kernelspec": {
   "display_name": "cog_m",
   "language": "python",
   "name": "python3"
  },
  "language_info": {
   "codemirror_mode": {
    "name": "ipython",
    "version": 3
   },
   "file_extension": ".py",
   "mimetype": "text/x-python",
   "name": "python",
   "nbconvert_exporter": "python",
   "pygments_lexer": "ipython3",
   "version": "3.12.1"
  }
 },
 "nbformat": 4,
 "nbformat_minor": 2
}
