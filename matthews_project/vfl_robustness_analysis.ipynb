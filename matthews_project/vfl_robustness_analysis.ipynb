{
 "cells": [
  {
   "cell_type": "markdown",
   "metadata": {},
   "source": [
    "# Robustness Analysis for Deep Vertically Federated Learning\n",
    "\n",
    "Within this notebook, we train an ensemble of “black box” deep neural network in a vertically federated setting construction and ask cognitively motivated questions. Question such as:\n",
    "- How does the network’s behavior / performance change as a function of an exogenous factor?\n",
    "    - Network depth\n",
    "    - Noise applied to different parts of the enesmble model\n",
    "- How can we modify the training algorithm to increase the network’s robustness?\n",
    "    - Can we take advantage of the vetically federated setting?"
   ]
  }
 ],
 "metadata": {
  "kernelspec": {
   "display_name": "cognitive",
   "language": "python",
   "name": "python3"
  },
  "language_info": {
   "codemirror_mode": {
    "name": "ipython",
    "version": 3
   },
   "file_extension": ".py",
   "mimetype": "text/x-python",
   "name": "python",
   "nbconvert_exporter": "python",
   "pygments_lexer": "ipython3",
   "version": "3.11.0"
  }
 },
 "nbformat": 4,
 "nbformat_minor": 2
}
