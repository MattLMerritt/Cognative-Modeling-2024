{
 "cells": [
  {
   "cell_type": "code",
   "execution_count": 87,
   "metadata": {},
   "outputs": [],
   "source": [
    "# Desired Transformations:\n",
    "\n",
    "# number of disinct parties (vertical partitioning)\n",
    "# must be less than or equal to the number of indendent features in the dataset\n",
    "distinct_parties = 5\n",
    "\n",
    "# normalize the data\n",
    "normalize = True\n",
    "\n",
    "# test/train split\n",
    "test_train_split = 0.2\n",
    "\n",
    "# set special values to Nan\n",
    "set_special_values_to_nan = True\n",
    "\n",
    "# remove rows with special values (overrides set_special_values_to_nan)\n",
    "remove_special_values = True\n",
    "\n",
    "# output directory\n",
    "output_dir = \"pre_processed_adult_5p\""
   ]
  },
  {
   "cell_type": "code",
   "execution_count": 88,
   "metadata": {},
   "outputs": [],
   "source": [
    "### Libraries for Data Handling\n",
    "from pathlib import Path\n",
    "import numpy as np\n",
    "import pandas as pd\n",
    "from sklearn.model_selection import train_test_split\n",
    "from sklearn.preprocessing import StandardScaler"
   ]
  },
  {
   "cell_type": "code",
   "execution_count": 89,
   "metadata": {},
   "outputs": [],
   "source": [
    "# import, clean and transform the dataset\n",
    "adult_df = pd.read_csv('./datasets/adult_dataset/adult.data', sep=',', header=None)\n",
    "adult_column_names = ['age', 'workclass', 'fnlwgt', 'education', 'education_num', 'marital_status', 'occupation', 'relationship', 'race', 'sex', 'capital_gain', 'capital_loss', 'hours_per_week', 'native_country', 'income']\n",
    "adult_df.columns = adult_column_names\n",
    "\n",
    "# Remove unkowns from the dataset\n",
    "if remove_special_values or set_special_values_to_nan:\n",
    "    adult_df.replace(\"?\", np.nan, inplace=True)\n",
    "    if remove_special_values:\n",
    "        adult_df.dropna(inplace=True)\n",
    "\n",
    "# Transform the income classification column to binary & remove it from the features\n",
    "labels = adult_df.filter(['income'], axis=1)\n",
    "labels.replace('<=50K', 0, inplace=True, regex=True)\n",
    "labels.replace('>50K', 1, inplace=True, regex=True)\n",
    "adult_df = adult_df.drop('income', axis=1)\n",
    "\n",
    "# Label encode the catagorial columns\n",
    "catagorial_columns = adult_df.select_dtypes(include=['object']).columns\n",
    "for column in catagorial_columns:\n",
    "    adult_df[column] = adult_df[column].astype('category').cat.codes\n",
    "\n",
    "# Normalize the data\n",
    "if normalize:\n",
    "    sc = StandardScaler()\n",
    "    adult_ndarray = sc.fit_transform(adult_df)"
   ]
  },
  {
   "cell_type": "code",
   "execution_count": 90,
   "metadata": {},
   "outputs": [],
   "source": [
    "# partition dataset into n parties\n",
    "if distinct_parties:\n",
    "    column_partitions = np.array_split(adult_ndarray, distinct_parties, axis=1)\n",
    "    column_partition_labels = np.array_split(adult_column_names[:-1], distinct_parties, axis=0)\n",
    "else:\n",
    "    column_partitions = [adult_ndarray]\n",
    "    column_partition_labels = [adult_column_names[:-1]]"
   ]
  },
  {
   "cell_type": "code",
   "execution_count": 91,
   "metadata": {},
   "outputs": [],
   "source": [
    "# split the dataset into test and training sets\n",
    "if distinct_parties:\n",
    "    train_data = []\n",
    "    test_data = []\n",
    "    for i, partition in enumerate(column_partitions):\n",
    "        X_train, X_test, y_train, y_test = train_test_split( \\\n",
    "            partition, labels, test_size=test_train_split, random_state=42, shuffle=False)\n",
    "        train_data.append((X_train, y_train))\n",
    "        test_data.append((X_test, y_test))"
   ]
  },
  {
   "cell_type": "code",
   "execution_count": 92,
   "metadata": {},
   "outputs": [],
   "source": [
    "# export datasets\n",
    "base_dir = './datasets/' + output_dir + '/'\n",
    "base_path = Path(base_dir)\n",
    "base_path.mkdir(parents=True, exist_ok=True)\n",
    "\n",
    "\n",
    "\n",
    "column_names = list(adult_column_names[:-1])\n",
    "for i in range(distinct_parties):\n",
    "    train_data[i] = pd.DataFrame(data=train_data[i][0], columns=list(column_partition_labels[i]))\n",
    "    test_data[i] = pd.DataFrame(data=test_data[i][0], columns=list(column_partition_labels[i]))\n",
    "\n",
    "    train_data[i].to_csv(base_dir + f'train_data_party_{i+1}.csv', index=False)\n",
    "    test_data[i].to_csv(base_dir + f'test_data_party_{i+1}.csv', index=False)\n",
    "\n",
    "y_train.to_csv(base_dir + 'train_labels.csv', index=False)\n",
    "y_test.to_csv(base_dir + 'test_labels.csv', index=False)\n",
    "labels.to_csv(base_dir + 'labels.csv', index=False)\n"
   ]
  },
  {
   "cell_type": "code",
   "execution_count": 93,
   "metadata": {},
   "outputs": [
    {
     "data": {
      "text/plain": [
       "<Axes: xlabel='income'>"
      ]
     },
     "execution_count": 93,
     "metadata": {},
     "output_type": "execute_result"
    },
    {
     "data": {
      "image/png": "[encoded data removed]",
      "text/plain": [
       "<Figure size 640x480 with 1 Axes>"
      ]
     },
     "metadata": {},
     "output_type": "display_data"
    }
   ],
   "source": [
    "# Identify the distribution of the labels\n",
    "y_test.value_counts().plot(kind='bar')"
   ]
  }
 ],
 "metadata": {
  "kernelspec": {
   "display_name": "shap_learning",
   "language": "python",
   "name": "python3"
  },
  "language_info": {
   "codemirror_mode": {
    "name": "ipython",
    "version": 3
   },
   "file_extension": ".py",
   "mimetype": "text/x-python",
   "name": "python",
   "nbconvert_exporter": "python",
   "pygments_lexer": "ipython3",
   "version": "3.11.0"
  }
 },
 "nbformat": 4,
 "nbformat_minor": 2
}
